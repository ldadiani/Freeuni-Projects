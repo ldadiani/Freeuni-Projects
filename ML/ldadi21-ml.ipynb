{
 "cells": [
  {
   "cell_type": "markdown",
   "id": "34ab6c2a",
   "metadata": {
    "_cell_guid": "b1076dfc-b9ad-4769-8c92-a6c4dae69d19",
    "_uuid": "8f2839f25d086af736a60e9eeb907d3b93b6e0e5",
    "papermill": {
     "duration": 0.006548,
     "end_time": "2024-05-26T22:13:42.799787",
     "exception": false,
     "start_time": "2024-05-26T22:13:42.793239",
     "status": "completed"
    },
    "tags": []
   },
   "source": [
    "# This Python 3 environment comes with many helpful analytics libraries installed\n",
    "# It is defined by the kaggle/python Docker image: https://github.com/kaggle/docker-python\n",
    "# For example, here's several helpful packages to load\n",
    "\n",
    "import numpy as np # linear algebra\n",
    "import pandas as pd # data processing, CSV file I/O (e.g. pd.read_csv)\n",
    "\n",
    "# Input data files are available in the read-only \"../input/\" directory\n",
    "# For example, running this (by clicking run or pressing Shift+Enter) will list all files under the input directory\n",
    "\n",
    "import os\n",
    "for dirname, _, filenames in os.walk('/kaggle/input'):\n",
    "    for filename in filenames:\n",
    "        print(os.path.join(dirname, filename))\n",
    "\n",
    "# You can write up to 20GB to the current directory (/kaggle/working/) that gets preserved as output when you create a version using \"Save & Run All\" \n",
    "# You can also write temporary files to /kaggle/temp/, but they won't be saved outside of the current session"
   ]
  },
  {
   "cell_type": "code",
   "execution_count": 1,
   "id": "6216d779",
   "metadata": {
    "execution": {
     "iopub.execute_input": "2024-05-26T22:13:42.813541Z",
     "iopub.status.busy": "2024-05-26T22:13:42.813173Z",
     "iopub.status.idle": "2024-05-26T22:13:43.665592Z",
     "shell.execute_reply": "2024-05-26T22:13:43.664507Z"
    },
    "papermill": {
     "duration": 0.862103,
     "end_time": "2024-05-26T22:13:43.668023",
     "exception": false,
     "start_time": "2024-05-26T22:13:42.805920",
     "status": "completed"
    },
    "tags": []
   },
   "outputs": [
    {
     "name": "stdout",
     "output_type": "stream",
     "text": [
      "/kaggle/input/new-york-city-taxi-fare-prediction/sample_submission.csv\n",
      "/kaggle/input/new-york-city-taxi-fare-prediction/GCP-Coupons-Instructions.rtf\n",
      "/kaggle/input/new-york-city-taxi-fare-prediction/train.csv\n",
      "/kaggle/input/new-york-city-taxi-fare-prediction/test.csv\n"
     ]
    }
   ],
   "source": [
    "# This Python 3 environment comes with many helpful analytics libraries installed\n",
    "# It is defined by the kaggle/python Docker image: https://github.com/kaggle/docker-python\n",
    "# For example, here's several helpful packages to load\n",
    "\n",
    "import numpy as np # linear algebra\n",
    "import pandas as pd # data processing, CSV file I/O (e.g. pd.read_csv)\n",
    "\n",
    "# Input data files are available in the read-only \"../input/\" directory\n",
    "# For example, running this (by clicking run or pressing Shift+Enter) will list all files under the input directory\n",
    "\n",
    "import os\n",
    "for dirname, _, filenames in os.walk('/kaggle/input'):\n",
    "    for filename in filenames:\n",
    "        print(os.path.join(dirname, filename))\n",
    "\n",
    "# You can write up to 20GB to the current directory (/kaggle/working/) that gets preserved as output when you create a version using \"Save & Run All\" \n",
    "# You can also write temporary files to /kaggle/temp/, but they won't be saved outside of the current session"
   ]
  },
  {
   "cell_type": "markdown",
   "id": "bdab4221",
   "metadata": {
    "papermill": {
     "duration": 0.005954,
     "end_time": "2024-05-26T22:13:43.680320",
     "exception": false,
     "start_time": "2024-05-26T22:13:43.674366",
     "status": "completed"
    },
    "tags": []
   },
   "source": [
    "მონაცემების ამორება და დაბეჭდვა"
   ]
  },
  {
   "cell_type": "code",
   "execution_count": 2,
   "id": "49a37c7e",
   "metadata": {
    "execution": {
     "iopub.execute_input": "2024-05-26T22:13:43.694941Z",
     "iopub.status.busy": "2024-05-26T22:13:43.694356Z",
     "iopub.status.idle": "2024-05-26T22:13:43.780900Z",
     "shell.execute_reply": "2024-05-26T22:13:43.779310Z"
    },
    "papermill": {
     "duration": 0.096678,
     "end_time": "2024-05-26T22:13:43.783158",
     "exception": false,
     "start_time": "2024-05-26T22:13:43.686480",
     "status": "completed"
    },
    "tags": []
   },
   "outputs": [
    {
     "name": "stdout",
     "output_type": "stream",
     "text": [
      "       fare_amount  pickup_longitude  pickup_latitude  dropoff_longitude  \\\n",
      "count  1000.000000       1000.000000      1000.000000        1000.000000   \n",
      "mean     11.469940        -72.126972        39.732521         -72.198714   \n",
      "std       9.499792         11.555398         6.365536          11.327382   \n",
      "min       2.500000        -74.438233         0.000000         -74.185996   \n",
      "25%       6.000000        -73.993044        40.735310         -73.991830   \n",
      "50%       8.500000        -73.982135        40.752876         -73.980246   \n",
      "75%      13.000000        -73.966590        40.766689         -73.962534   \n",
      "max      66.300000          0.000000        40.993260           0.000000   \n",
      "\n",
      "       dropoff_latitude  passenger_count  \n",
      "count       1000.000000      1000.000000  \n",
      "mean          39.773237         1.592000  \n",
      "std            6.240137         1.222715  \n",
      "min            0.000000         0.000000  \n",
      "25%           40.732978         1.000000  \n",
      "50%           40.753924         1.000000  \n",
      "75%           40.767705         2.000000  \n",
      "max           40.881878         6.000000  \n"
     ]
    }
   ],
   "source": [
    "\n",
    "train_df = pd.read_csv('/kaggle/input/new-york-city-taxi-fare-prediction/train.csv', nrows=1000)\n",
    "test_df = pd.read_csv('/kaggle/input/new-york-city-taxi-fare-prediction/test.csv')\n",
    "\n",
    "print(train_df.describe())\n"
   ]
  },
  {
   "cell_type": "markdown",
   "id": "aeda7f5e",
   "metadata": {
    "papermill": {
     "duration": 0.005975,
     "end_time": "2024-05-26T22:13:43.795514",
     "exception": false,
     "start_time": "2024-05-26T22:13:43.789539",
     "status": "completed"
    },
    "tags": []
   },
   "source": [
    "გამოტოვებული მნიშვნელობების ამოშლა"
   ]
  },
  {
   "cell_type": "code",
   "execution_count": 3,
   "id": "ec310b9d",
   "metadata": {
    "execution": {
     "iopub.execute_input": "2024-05-26T22:13:43.810026Z",
     "iopub.status.busy": "2024-05-26T22:13:43.809217Z",
     "iopub.status.idle": "2024-05-26T22:13:43.815424Z",
     "shell.execute_reply": "2024-05-26T22:13:43.814414Z"
    },
    "papermill": {
     "duration": 0.015973,
     "end_time": "2024-05-26T22:13:43.817678",
     "exception": false,
     "start_time": "2024-05-26T22:13:43.801705",
     "status": "completed"
    },
    "tags": []
   },
   "outputs": [],
   "source": [
    "train_df.dropna(inplace=True)"
   ]
  },
  {
   "cell_type": "markdown",
   "id": "7fda7a8f",
   "metadata": {
    "papermill": {
     "duration": 0.005983,
     "end_time": "2024-05-26T22:13:43.829996",
     "exception": false,
     "start_time": "2024-05-26T22:13:43.824013",
     "status": "completed"
    },
    "tags": []
   },
   "source": [
    "მონაცემების შეზღუდვა (ამგვარად შედეგი უფრო ზუსტი იქნება), ვზღუდავთ ნიუ იორკის ფარგლებში (ნიუ იორკის გრძედებსა და განედებს შორის), რადგან გამოჩნდა რომ მინიმალური fare amount და passenger count იყო 0."
   ]
  },
  {
   "cell_type": "code",
   "execution_count": 4,
   "id": "95a8ce0b",
   "metadata": {
    "execution": {
     "iopub.execute_input": "2024-05-26T22:13:43.844329Z",
     "iopub.status.busy": "2024-05-26T22:13:43.843951Z",
     "iopub.status.idle": "2024-05-26T22:13:43.862543Z",
     "shell.execute_reply": "2024-05-26T22:13:43.861572Z"
    },
    "papermill": {
     "duration": 0.028724,
     "end_time": "2024-05-26T22:13:43.865104",
     "exception": false,
     "start_time": "2024-05-26T22:13:43.836380",
     "status": "completed"
    },
    "tags": []
   },
   "outputs": [],
   "source": [
    "train_df = train_df[(train_df['fare_amount'] > 0) & (train_df['fare_amount'] < 500)]\n",
    "train_df = train_df[(train_df['passenger_count'] > 0) & (train_df['passenger_count'] <= 6)]\n",
    "train_df = train_df[(train_df['pickup_longitude'] > -80) & (train_df['pickup_longitude'] < -70)]\n",
    "train_df = train_df[(train_df['pickup_latitude'] > 35) & (train_df['pickup_latitude'] < 45)]\n",
    "train_df = train_df[(train_df['dropoff_longitude'] > -80) & (train_df['dropoff_longitude'] < -70)]\n",
    "train_df = train_df[(train_df['dropoff_latitude'] > 35) & (train_df['dropoff_latitude'] < 45)]"
   ]
  },
  {
   "cell_type": "markdown",
   "id": "2bc5f1dd",
   "metadata": {
    "papermill": {
     "duration": 0.006212,
     "end_time": "2024-05-26T22:13:43.878823",
     "exception": false,
     "start_time": "2024-05-26T22:13:43.872611",
     "status": "completed"
    },
    "tags": []
   },
   "source": [
    "feature engineering - > ვხდით მოცემულ ინფორმაციას უფრო რელევანტურს გამოყენებისთვის. ამჯერად Haversine formulaს გამოყენებით ვანგარიშობთ სფეროზე(დედამიწაზე) დისტანციას ორ წერტილს შორის"
   ]
  },
  {
   "cell_type": "code",
   "execution_count": 5,
   "id": "64906996",
   "metadata": {
    "execution": {
     "iopub.execute_input": "2024-05-26T22:13:43.893364Z",
     "iopub.status.busy": "2024-05-26T22:13:43.892976Z",
     "iopub.status.idle": "2024-05-26T22:13:43.904102Z",
     "shell.execute_reply": "2024-05-26T22:13:43.903129Z"
    },
    "papermill": {
     "duration": 0.021157,
     "end_time": "2024-05-26T22:13:43.906374",
     "exception": false,
     "start_time": "2024-05-26T22:13:43.885217",
     "status": "completed"
    },
    "tags": []
   },
   "outputs": [],
   "source": [
    "def haversine_distance(lat1, lon1, lat2, lon2):\n",
    "    R = 6371  \n",
    "    phi1, phi2 = np.radians(lat1), np.radians(lat2)\n",
    "    delta_phi = np.radians(lat2 - lat1)\n",
    "    delta_lambda = np.radians(lon2 - lon1)\n",
    "    a = np.sin(delta_phi / 2) ** 2 + np.cos(phi1) * np.cos(phi2) * np.sin(delta_lambda / 2) ** 2\n",
    "    return R * (2 * np.arctan2(np.sqrt(a), np.sqrt(1 - a)))\n",
    "\n",
    "train_df['haversine_distance'] = haversine_distance(train_df['pickup_latitude'], train_df['pickup_longitude'],\n",
    "                                                    train_df['dropoff_latitude'], train_df['dropoff_longitude'])\n"
   ]
  },
  {
   "cell_type": "markdown",
   "id": "c1fd8635",
   "metadata": {
    "papermill": {
     "duration": 0.006211,
     "end_time": "2024-05-26T22:13:43.919263",
     "exception": false,
     "start_time": "2024-05-26T22:13:43.913052",
     "status": "completed"
    },
    "tags": []
   },
   "source": [
    "ევკლიდეს დისტანცია"
   ]
  },
  {
   "cell_type": "code",
   "execution_count": 6,
   "id": "78f3af7e",
   "metadata": {
    "execution": {
     "iopub.execute_input": "2024-05-26T22:13:43.934336Z",
     "iopub.status.busy": "2024-05-26T22:13:43.933571Z",
     "iopub.status.idle": "2024-05-26T22:13:43.940863Z",
     "shell.execute_reply": "2024-05-26T22:13:43.939870Z"
    },
    "papermill": {
     "duration": 0.017102,
     "end_time": "2024-05-26T22:13:43.942938",
     "exception": false,
     "start_time": "2024-05-26T22:13:43.925836",
     "status": "completed"
    },
    "tags": []
   },
   "outputs": [],
   "source": [
    "def euclidean_distance(lat1, lon1, lat2, lon2):\n",
    "    return np.sqrt((lat1 - lat2)**2 + (lon1 - lon2)**2)\n",
    "\n",
    "train_df['euclidean_distance'] = euclidean_distance(train_df['pickup_latitude'], train_df['pickup_longitude'],\n",
    "                                                    train_df['dropoff_latitude'], train_df['dropoff_longitude'])\n"
   ]
  },
  {
   "cell_type": "markdown",
   "id": "f3ca3e5a",
   "metadata": {
    "papermill": {
     "duration": 0.006237,
     "end_time": "2024-05-26T22:13:43.955798",
     "exception": false,
     "start_time": "2024-05-26T22:13:43.949561",
     "status": "completed"
    },
    "tags": []
   },
   "source": [
    "აეროპორტის კოორდინატები"
   ]
  },
  {
   "cell_type": "code",
   "execution_count": 7,
   "id": "88cc0ee5",
   "metadata": {
    "execution": {
     "iopub.execute_input": "2024-05-26T22:13:43.970906Z",
     "iopub.status.busy": "2024-05-26T22:13:43.969962Z",
     "iopub.status.idle": "2024-05-26T22:13:43.975709Z",
     "shell.execute_reply": "2024-05-26T22:13:43.974383Z"
    },
    "papermill": {
     "duration": 0.015801,
     "end_time": "2024-05-26T22:13:43.978032",
     "exception": false,
     "start_time": "2024-05-26T22:13:43.962231",
     "status": "completed"
    },
    "tags": []
   },
   "outputs": [],
   "source": [
    "jfk_coords = (40.6413, -73.7781)\n",
    "lga_coords = (40.7769, -73.8740)\n",
    "ewr_coords = (40.6895, -74.1745)"
   ]
  },
  {
   "cell_type": "markdown",
   "id": "ad59076a",
   "metadata": {
    "papermill": {
     "duration": 0.006242,
     "end_time": "2024-05-26T22:13:43.990988",
     "exception": false,
     "start_time": "2024-05-26T22:13:43.984746",
     "status": "completed"
    },
    "tags": []
   },
   "source": [
    "მანძილები აეროპორტამდე"
   ]
  },
  {
   "cell_type": "code",
   "execution_count": 8,
   "id": "66cd58d2",
   "metadata": {
    "execution": {
     "iopub.execute_input": "2024-05-26T22:13:44.005579Z",
     "iopub.status.busy": "2024-05-26T22:13:44.005190Z",
     "iopub.status.idle": "2024-05-26T22:13:44.030771Z",
     "shell.execute_reply": "2024-05-26T22:13:44.029719Z"
    },
    "papermill": {
     "duration": 0.035677,
     "end_time": "2024-05-26T22:13:44.033115",
     "exception": false,
     "start_time": "2024-05-26T22:13:43.997438",
     "status": "completed"
    },
    "tags": []
   },
   "outputs": [],
   "source": [
    "train_df['pickup_distance_to_jfk'] = haversine_distance(train_df['pickup_latitude'], train_df['pickup_longitude'], jfk_coords[0], jfk_coords[1])\n",
    "train_df['dropoff_distance_to_jfk'] = haversine_distance(train_df['dropoff_latitude'], train_df['dropoff_longitude'], jfk_coords[0], jfk_coords[1])\n",
    "train_df['pickup_distance_to_lga'] = haversine_distance(train_df['pickup_latitude'], train_df['pickup_longitude'], lga_coords[0], lga_coords[1])\n",
    "train_df['dropoff_distance_to_lga'] = haversine_distance(train_df['dropoff_latitude'], train_df['dropoff_longitude'], lga_coords[0], lga_coords[1])\n",
    "train_df['pickup_distance_to_ewr'] = haversine_distance(train_df['pickup_latitude'], train_df['pickup_longitude'], ewr_coords[0], ewr_coords[1])\n",
    "train_df['dropoff_distance_to_ewr'] = haversine_distance(train_df['dropoff_latitude'], train_df['dropoff_longitude'], ewr_coords[0], ewr_coords[1])\n"
   ]
  },
  {
   "cell_type": "markdown",
   "id": "1914d52c",
   "metadata": {
    "papermill": {
     "duration": 0.00628,
     "end_time": "2024-05-26T22:13:44.045916",
     "exception": false,
     "start_time": "2024-05-26T22:13:44.039636",
     "status": "completed"
    },
    "tags": []
   },
   "source": [
    "პოპულარულ ადგილებამდე მანძილები"
   ]
  },
  {
   "cell_type": "code",
   "execution_count": 9,
   "id": "4859ad45",
   "metadata": {
    "execution": {
     "iopub.execute_input": "2024-05-26T22:13:44.061294Z",
     "iopub.status.busy": "2024-05-26T22:13:44.060517Z",
     "iopub.status.idle": "2024-05-26T22:13:44.088200Z",
     "shell.execute_reply": "2024-05-26T22:13:44.087102Z"
    },
    "papermill": {
     "duration": 0.038302,
     "end_time": "2024-05-26T22:13:44.090818",
     "exception": false,
     "start_time": "2024-05-26T22:13:44.052516",
     "status": "completed"
    },
    "tags": []
   },
   "outputs": [],
   "source": [
    "times_square_coords = (40.7580, -73.9855)\n",
    "central_park_coords = (40.7851, -73.9683)\n",
    "wall_street_coords = (40.7074, -74.0113)\n",
    "\n",
    "train_df['pickup_distance_to_times_square'] = haversine_distance(train_df['pickup_latitude'], train_df['pickup_longitude'], times_square_coords[0], times_square_coords[1])\n",
    "train_df['dropoff_distance_to_times_square'] = haversine_distance(train_df['dropoff_latitude'], train_df['dropoff_longitude'], times_square_coords[0], times_square_coords[1])\n",
    "train_df['pickup_distance_to_central_park'] = haversine_distance(train_df['pickup_latitude'], train_df['pickup_longitude'], central_park_coords[0], central_park_coords[1])\n",
    "train_df['dropoff_distance_to_central_park'] = haversine_distance(train_df['dropoff_latitude'], train_df['dropoff_longitude'], central_park_coords[0], central_park_coords[1])\n",
    "train_df['pickup_distance_to_wall_street'] = haversine_distance(train_df['pickup_latitude'], train_df['pickup_longitude'], wall_street_coords[0], wall_street_coords[1])\n",
    "train_df['dropoff_distance_to_wall_street'] = haversine_distance(train_df['dropoff_latitude'], train_df['dropoff_longitude'], wall_street_coords[0], wall_street_coords[1])\n"
   ]
  },
  {
   "cell_type": "markdown",
   "id": "1b9a4766",
   "metadata": {
    "papermill": {
     "duration": 0.006326,
     "end_time": "2024-05-26T22:13:44.103799",
     "exception": false,
     "start_time": "2024-05-26T22:13:44.097473",
     "status": "completed"
    },
    "tags": []
   },
   "source": [
    "დროის მონაცემები"
   ]
  },
  {
   "cell_type": "code",
   "execution_count": 10,
   "id": "5eca993b",
   "metadata": {
    "execution": {
     "iopub.execute_input": "2024-05-26T22:13:44.118521Z",
     "iopub.status.busy": "2024-05-26T22:13:44.118167Z",
     "iopub.status.idle": "2024-05-26T22:13:44.210356Z",
     "shell.execute_reply": "2024-05-26T22:13:44.209407Z"
    },
    "papermill": {
     "duration": 0.102611,
     "end_time": "2024-05-26T22:13:44.212879",
     "exception": false,
     "start_time": "2024-05-26T22:13:44.110268",
     "status": "completed"
    },
    "tags": []
   },
   "outputs": [],
   "source": [
    "train_df['pickup_datetime'] = pd.to_datetime(train_df['pickup_datetime'])\n",
    "train_df['hour'] = train_df['pickup_datetime'].dt.hour\n",
    "train_df['day_of_week'] = train_df['pickup_datetime'].dt.dayofweek\n",
    "train_df['month'] = train_df['pickup_datetime'].dt.month"
   ]
  },
  {
   "cell_type": "markdown",
   "id": "a1fa3ec4",
   "metadata": {
    "papermill": {
     "duration": 0.006298,
     "end_time": "2024-05-26T22:13:44.226408",
     "exception": false,
     "start_time": "2024-05-26T22:13:44.220110",
     "status": "completed"
    },
    "tags": []
   },
   "source": [
    "დისტანცია ნიუ იორკის ცენტრამდე"
   ]
  },
  {
   "cell_type": "code",
   "execution_count": 11,
   "id": "c864fe21",
   "metadata": {
    "execution": {
     "iopub.execute_input": "2024-05-26T22:13:44.241598Z",
     "iopub.status.busy": "2024-05-26T22:13:44.240951Z",
     "iopub.status.idle": "2024-05-26T22:13:44.253829Z",
     "shell.execute_reply": "2024-05-26T22:13:44.252943Z"
    },
    "papermill": {
     "duration": 0.023186,
     "end_time": "2024-05-26T22:13:44.256205",
     "exception": false,
     "start_time": "2024-05-26T22:13:44.233019",
     "status": "completed"
    },
    "tags": []
   },
   "outputs": [],
   "source": [
    "\n",
    "nyc_center = (-74.0060, 40.7128)\n",
    "\n",
    "def distance_to_center(lat, lon, center_lat, center_lon):\n",
    "    return haversine_distance(lat, lon, center_lat, center_lon)\n",
    "\n",
    "train_df['pickup_distance_to_center'] = distance_to_center(train_df['pickup_latitude'], train_df['pickup_longitude'], nyc_center[1], nyc_center[0])\n",
    "train_df['dropoff_distance_to_center'] = distance_to_center(train_df['dropoff_latitude'], train_df['dropoff_longitude'], nyc_center[1], nyc_center[0])\n",
    "\n"
   ]
  },
  {
   "cell_type": "code",
   "execution_count": 12,
   "id": "533b0285",
   "metadata": {
    "execution": {
     "iopub.execute_input": "2024-05-26T22:13:44.271756Z",
     "iopub.status.busy": "2024-05-26T22:13:44.271353Z",
     "iopub.status.idle": "2024-05-26T22:13:44.280271Z",
     "shell.execute_reply": "2024-05-26T22:13:44.279219Z"
    },
    "papermill": {
     "duration": 0.019226,
     "end_time": "2024-05-26T22:13:44.282444",
     "exception": false,
     "start_time": "2024-05-26T22:13:44.263218",
     "status": "completed"
    },
    "tags": []
   },
   "outputs": [],
   "source": [
    "features = ['haversine_distance', 'euclidean_distance', 'hour', 'day_of_week', 'month', 'passenger_count', \n",
    "            'pickup_distance_to_center', 'dropoff_distance_to_center',\n",
    "            'pickup_distance_to_jfk', 'dropoff_distance_to_jfk', \n",
    "            'pickup_distance_to_lga', 'dropoff_distance_to_lga',\n",
    "            'pickup_distance_to_ewr', 'dropoff_distance_to_ewr']\n",
    "X = train_df[features]\n",
    "y = train_df['fare_amount']\n"
   ]
  },
  {
   "cell_type": "markdown",
   "id": "154cf292",
   "metadata": {
    "papermill": {
     "duration": 0.006441,
     "end_time": "2024-05-26T22:13:44.295760",
     "exception": false,
     "start_time": "2024-05-26T22:13:44.289319",
     "status": "completed"
    },
    "tags": []
   },
   "source": [
    "მონაცემების დაყოფა"
   ]
  },
  {
   "cell_type": "code",
   "execution_count": 13,
   "id": "73ea4acf",
   "metadata": {
    "execution": {
     "iopub.execute_input": "2024-05-26T22:13:44.310851Z",
     "iopub.status.busy": "2024-05-26T22:13:44.310451Z",
     "iopub.status.idle": "2024-05-26T22:13:45.519418Z",
     "shell.execute_reply": "2024-05-26T22:13:45.518489Z"
    },
    "papermill": {
     "duration": 1.219573,
     "end_time": "2024-05-26T22:13:45.522092",
     "exception": false,
     "start_time": "2024-05-26T22:13:44.302519",
     "status": "completed"
    },
    "tags": []
   },
   "outputs": [],
   "source": [
    "from sklearn.model_selection import train_test_split\n",
    "X_train, X_val, y_train, y_val = train_test_split(X, y, test_size=0.2, random_state=42)\n"
   ]
  },
  {
   "cell_type": "markdown",
   "id": "6a039d06",
   "metadata": {
    "papermill": {
     "duration": 0.006429,
     "end_time": "2024-05-26T22:13:45.535486",
     "exception": false,
     "start_time": "2024-05-26T22:13:45.529057",
     "status": "completed"
    },
    "tags": []
   },
   "source": [
    "მნიშვნელობების მინიჭება"
   ]
  },
  {
   "cell_type": "code",
   "execution_count": 14,
   "id": "0fa5caeb",
   "metadata": {
    "execution": {
     "iopub.execute_input": "2024-05-26T22:13:45.550991Z",
     "iopub.status.busy": "2024-05-26T22:13:45.550059Z",
     "iopub.status.idle": "2024-05-26T22:13:45.725721Z",
     "shell.execute_reply": "2024-05-26T22:13:45.724490Z"
    },
    "papermill": {
     "duration": 0.186154,
     "end_time": "2024-05-26T22:13:45.728252",
     "exception": false,
     "start_time": "2024-05-26T22:13:45.542098",
     "status": "completed"
    },
    "tags": []
   },
   "outputs": [],
   "source": [
    "test_df['haversine_distance'] = haversine_distance(test_df['pickup_latitude'], test_df['pickup_longitude'],\n",
    "                                                   test_df['dropoff_latitude'], test_df['dropoff_longitude'])\n",
    "test_df['euclidean_distance'] = euclidean_distance(test_df['pickup_latitude'], test_df['pickup_longitude'],\n",
    "                                                   test_df['dropoff_latitude'], test_df['dropoff_longitude'])\n",
    "test_df['pickup_distance_to_jfk'] = haversine_distance(test_df['pickup_latitude'], test_df['pickup_longitude'], jfk_coords[0], jfk_coords[1])\n",
    "test_df['dropoff_distance_to_jfk'] = haversine_distance(test_df['dropoff_latitude'], test_df['dropoff_longitude'], jfk_coords[0], jfk_coords[1])\n",
    "test_df['pickup_distance_to_lga'] = haversine_distance(test_df['pickup_latitude'], test_df['pickup_longitude'], lga_coords[0], lga_coords[1])\n",
    "test_df['dropoff_distance_to_lga'] = haversine_distance(test_df['dropoff_latitude'], test_df['dropoff_longitude'], lga_coords[0], lga_coords[1])\n",
    "test_df['pickup_distance_to_ewr'] = haversine_distance(test_df['pickup_latitude'], test_df['pickup_longitude'], ewr_coords[0], ewr_coords[1])\n",
    "test_df['dropoff_distance_to_ewr'] = haversine_distance(test_df['dropoff_latitude'], test_df['dropoff_longitude'], ewr_coords[0], ewr_coords[1])\n",
    "test_df['pickup_distance_to_times_square'] = haversine_distance(test_df['pickup_latitude'], test_df['pickup_longitude'], times_square_coords[0], times_square_coords[1])\n",
    "test_df['dropoff_distance_to_times_square'] = haversine_distance(test_df['dropoff_latitude'], test_df['dropoff_longitude'], times_square_coords[0], times_square_coords[1])\n",
    "test_df['pickup_distance_to_central_park'] = haversine_distance(test_df['pickup_latitude'], test_df['pickup_longitude'], central_park_coords[0], central_park_coords[1])\n",
    "test_df['dropoff_distance_to_central_park'] = haversine_distance(test_df['dropoff_latitude'], test_df['dropoff_longitude'], central_park_coords[0], central_park_coords[1])\n",
    "test_df['pickup_distance_to_wall_street'] = haversine_distance(test_df['pickup_latitude'], test_df['pickup_longitude'], wall_street_coords[0], wall_street_coords[1])\n",
    "test_df['dropoff_distance_to_wall_street'] = haversine_distance(test_df['dropoff_latitude'], test_df['dropoff_longitude'], wall_street_coords[0], wall_street_coords[1])\n",
    "test_df['pickup_datetime'] = pd.to_datetime(test_df['pickup_datetime'])\n",
    "test_df['hour'] = test_df['pickup_datetime'].dt.hour\n",
    "test_df['day_of_week'] = test_df['pickup_datetime'].dt.dayofweek\n",
    "test_df['month'] = test_df['pickup_datetime'].dt.month\n",
    "test_df['pickup_distance_to_center'] = distance_to_center(test_df['pickup_latitude'], test_df['pickup_longitude'], nyc_center[1], nyc_center[0])\n",
    "test_df['dropoff_distance_to_center'] = distance_to_center(test_df['dropoff_latitude'], test_df['dropoff_longitude'], nyc_center[1], nyc_center[0])\n",
    "X_test = test_df[features]"
   ]
  },
  {
   "cell_type": "markdown",
   "id": "0a2d71c8",
   "metadata": {
    "papermill": {
     "duration": 0.00693,
     "end_time": "2024-05-26T22:13:45.742304",
     "exception": false,
     "start_time": "2024-05-26T22:13:45.735374",
     "status": "completed"
    },
    "tags": []
   },
   "source": [
    "წრფივი რეგრესია"
   ]
  },
  {
   "cell_type": "code",
   "execution_count": 15,
   "id": "748e1030",
   "metadata": {
    "execution": {
     "iopub.execute_input": "2024-05-26T22:13:45.757926Z",
     "iopub.status.busy": "2024-05-26T22:13:45.757497Z",
     "iopub.status.idle": "2024-05-26T22:13:45.886895Z",
     "shell.execute_reply": "2024-05-26T22:13:45.885774Z"
    },
    "papermill": {
     "duration": 0.142347,
     "end_time": "2024-05-26T22:13:45.891643",
     "exception": false,
     "start_time": "2024-05-26T22:13:45.749296",
     "status": "completed"
    },
    "tags": []
   },
   "outputs": [
    {
     "name": "stdout",
     "output_type": "stream",
     "text": [
      "Linear Regression Validation RMSE: 5.41\n"
     ]
    }
   ],
   "source": [
    "from sklearn.linear_model import LinearRegression\n",
    "from sklearn.metrics import mean_squared_error\n",
    "\n",
    "lr = LinearRegression()\n",
    "lr.fit(X_train, y_train)\n",
    "y_pred_lr = lr.predict(X_val)\n",
    "rmse_lr = np.sqrt(mean_squared_error(y_val, y_pred_lr))\n",
    "print(f'Linear Regression Validation RMSE: {rmse_lr:.2f}')\n",
    "\n",
    "test_df['fare_amount_lr'] = lr.predict(X_test)\n"
   ]
  },
  {
   "cell_type": "raw",
   "id": "786bba15",
   "metadata": {
    "papermill": {
     "duration": 0.024414,
     "end_time": "2024-05-26T22:13:45.953271",
     "exception": false,
     "start_time": "2024-05-26T22:13:45.928857",
     "status": "completed"
    },
    "tags": []
   },
   "source": [
    "random forest"
   ]
  },
  {
   "cell_type": "code",
   "execution_count": 16,
   "id": "b463a7dd",
   "metadata": {
    "execution": {
     "iopub.execute_input": "2024-05-26T22:13:45.997282Z",
     "iopub.status.busy": "2024-05-26T22:13:45.996746Z",
     "iopub.status.idle": "2024-05-26T22:13:56.151416Z",
     "shell.execute_reply": "2024-05-26T22:13:56.150120Z"
    },
    "papermill": {
     "duration": 10.182812,
     "end_time": "2024-05-26T22:13:56.154144",
     "exception": false,
     "start_time": "2024-05-26T22:13:45.971332",
     "status": "completed"
    },
    "tags": []
   },
   "outputs": [
    {
     "name": "stdout",
     "output_type": "stream",
     "text": [
      "Random Forest Validation RMSE: 4.54\n"
     ]
    }
   ],
   "source": [
    "from sklearn.ensemble import RandomForestRegressor\n",
    "from sklearn.model_selection import RandomizedSearchCV\n",
    "\n",
    "sample_size = min(10000, len(train_df))\n",
    "\n",
    "small_train_df = train_df.sample(n=sample_size, random_state=42)\n",
    "\n",
    "X_small = small_train_df[features]\n",
    "y_small = small_train_df['fare_amount']\n",
    "\n",
    "rf = RandomForestRegressor(random_state=42, n_jobs=-1)\n",
    "\n",
    "param_distributions = {\n",
    "    'n_estimators': [100, 200, 300],\n",
    "    'max_depth': [10, 15, 20],\n",
    "    'min_samples_split': [2, 5],\n",
    "    'min_samples_leaf': [1, 2],\n",
    "    'max_features': ['sqrt', 'log2']\n",
    "}\n",
    "\n",
    "random_search = RandomizedSearchCV(estimator=rf, param_distributions=param_distributions, \n",
    "                                   n_iter=10, cv=3, n_jobs=-1, random_state=42, verbose=0)\n",
    "\n",
    "random_search.fit(X_small, y_small)\n",
    "\n",
    "best_rf = random_search.best_estimator_\n",
    "\n",
    "best_rf.fit(X_train, y_train)\n",
    "y_pred_rf = best_rf.predict(X_val)\n",
    "rmse_rf = np.sqrt(mean_squared_error(y_val, y_pred_rf))\n",
    "print(f'Random Forest Validation RMSE: {rmse_rf:.2f}')\n",
    "\n",
    "# Predictions on test set\n",
    "test_df['fare_amount_rf'] = best_rf.predict(X_test)\n"
   ]
  },
  {
   "cell_type": "markdown",
   "id": "2ed48c2c",
   "metadata": {
    "papermill": {
     "duration": 0.006901,
     "end_time": "2024-05-26T22:13:56.168335",
     "exception": false,
     "start_time": "2024-05-26T22:13:56.161434",
     "status": "completed"
    },
    "tags": []
   },
   "source": [
    "შედეგის გამოტანა"
   ]
  },
  {
   "cell_type": "code",
   "execution_count": 17,
   "id": "e234ae5d",
   "metadata": {
    "execution": {
     "iopub.execute_input": "2024-05-26T22:13:56.185427Z",
     "iopub.status.busy": "2024-05-26T22:13:56.184457Z",
     "iopub.status.idle": "2024-05-26T22:13:56.254268Z",
     "shell.execute_reply": "2024-05-26T22:13:56.252898Z"
    },
    "papermill": {
     "duration": 0.080784,
     "end_time": "2024-05-26T22:13:56.256480",
     "exception": false,
     "start_time": "2024-05-26T22:13:56.175696",
     "status": "completed"
    },
    "tags": []
   },
   "outputs": [
    {
     "name": "stdout",
     "output_type": "stream",
     "text": [
      "Linear Regression RMSE: 5.41\n",
      "Random Forest RMSE: 4.54\n"
     ]
    }
   ],
   "source": [
    "print(f'Linear Regression RMSE: {rmse_lr:.2f}')\n",
    "print(f'Random Forest RMSE: {rmse_rf:.2f}')\n",
    "\n",
    "submission_lr = test_df[['key', 'fare_amount_lr']].rename(columns={'fare_amount_lr': 'fare_amount'})\n",
    "submission_rf = test_df[['key', 'fare_amount_rf']].rename(columns={'fare_amount_rf': 'fare_amount'})\n",
    "\n",
    "submission_lr.to_csv('submission_lr.csv', index=False)\n",
    "submission_rf.to_csv('submission_rf.csv', index=False)"
   ]
  }
 ],
 "metadata": {
  "kaggle": {
   "accelerator": "none",
   "dataSources": [
    {
     "databundleVersionId": 61318,
     "sourceId": 10170,
     "sourceType": "competition"
    }
   ],
   "dockerImageVersionId": 30698,
   "isGpuEnabled": false,
   "isInternetEnabled": false,
   "language": "python",
   "sourceType": "notebook"
  },
  "kernelspec": {
   "display_name": "Python 3",
   "language": "python",
   "name": "python3"
  },
  "language_info": {
   "codemirror_mode": {
    "name": "ipython",
    "version": 3
   },
   "file_extension": ".py",
   "mimetype": "text/x-python",
   "name": "python",
   "nbconvert_exporter": "python",
   "pygments_lexer": "ipython3",
   "version": "3.10.13"
  },
  "papermill": {
   "default_parameters": {},
   "duration": 19.163846,
   "end_time": "2024-05-26T22:13:58.884410",
   "environment_variables": {},
   "exception": null,
   "input_path": "__notebook__.ipynb",
   "output_path": "__notebook__.ipynb",
   "parameters": {},
   "start_time": "2024-05-26T22:13:39.720564",
   "version": "2.5.0"
  }
 },
 "nbformat": 4,
 "nbformat_minor": 5
}
